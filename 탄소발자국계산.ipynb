{
  "nbformat": 4,
  "nbformat_minor": 0,
  "metadata": {
    "colab": {
      "provenance": []
    },
    "kernelspec": {
      "name": "python3",
      "display_name": "Python 3"
    },
    "language_info": {
      "name": "python"
    }
  },
  "cells": [
    {
      "cell_type": "code",
      "execution_count": null,
      "metadata": {
        "colab": {
          "base_uri": "https://localhost:8080/"
        },
        "id": "l97tIYrYWHLe",
        "outputId": "1c29a090-33ee-49fd-e979-5a5fd86f3c83"
      },
      "outputs": [
        {
          "output_type": "stream",
          "name": "stdout",
          "text": [
            "일주일 동안 버스를 몇 번 이용하시나요?: 3\n",
            "일주일 동안 지하철을 몇 번 이용하시나요?: 5\n",
            "버스 횟수: 3 지하철 횟수: 5\n"
          ]
        }
      ],
      "source": [
        "def get_input1():\n",
        "    user_input1 = input(\"일주일 동안 버스를 몇 번 이용하시나요?: \")\n",
        "    return user_input1\n",
        "\n",
        "def get_input2():\n",
        "    user_input2 = input(\"일주일 동안 지하철을 몇 번 이용하시나요?: \")\n",
        "    return user_input2\n",
        "\n",
        "\n",
        "# 함수 호출\n",
        "bus_frequency = get_input1()\n",
        "subway_frequency = get_input2()\n",
        "\n",
        "print(\"버스 횟수:\", bus_frequency, \"지하철 횟수:\", subway_frequency)"
      ]
    },
    {
      "cell_type": "code",
      "source": [
        "\n",
        "import matplotlib.pyplot as plt\n",
        "\n",
        "#bus lenth랑 subway length는 1번 이동할 때 거리의 합\n",
        "def calculate_weekly_cost(bus_frequency, subway_frequency, bus_length, subway_length):\n",
        "    bus_week = bus_frequency * 50.6 * bus_length + subway_frequency * 33.6 * subway_length\n",
        "    car_week = (bus_frequency + subway_frequency) * 147.5 * (bus_length + subway_length)\n",
        "    return bus_week, car_week\n",
        "\n",
        "def calculate_annual_emission_difference(bus_week, car_week):\n",
        "    year = 52 * (car_week - bus_week)\n",
        "    return year\n",
        "\n",
        "def plot_comparison(bus_week, car_week):\n",
        "    categories = ['Public Transport', 'Car']\n",
        "    values = [bus_week*52, car_week*52]\n",
        "\n",
        "    plt.bar(categories, values, color=['skyblue', 'lightcoral'])\n",
        "    plt.ylabel('Annual Cost (KRW)')\n",
        "    plt.title('Annual Cost Comparison')\n",
        "    plt.show()\n",
        "\n",
        "# 예제 입력값\n",
        "bus_frequency = 3\n",
        "subway_frequency = 3\n",
        "bus_length = 10\n",
        "subway_length = 15\n",
        "\n",
        "# 주간 비용 계산\n",
        "bus_week, car_week = calculate_weekly_cost(bus_frequency, subway_frequency, bus_length, subway_length)\n",
        "\n",
        "# 연간 탄소 배출량 차이 계산\n",
        "year = calculate_annual_emission_difference(bus_week, car_week)\n",
        "year_kg = year /1000\n",
        "\n",
        "# 결과 출력\n",
        "print(\"당신은 1년 동안 탄소배출량이 승용차 이용자에 비해 \", year_kg, \"kg 만큼 낮습니다.\")\n",
        "\n",
        "# 막대 그래프 플로팅\n",
        "plot_comparison(bus_week, car_week)\n"
      ],
      "metadata": {
        "colab": {
          "base_uri": "https://localhost:8080/",
          "height": 470
        },
        "id": "3b-kCb1JeSmp",
        "outputId": "58ab23a3-4bf1-47c4-d673-3468e1b8aba0"
      },
      "execution_count": null,
      "outputs": [
        {
          "output_type": "stream",
          "name": "stdout",
          "text": [
            "당신은 1년 동안 탄소배출량이 승용차 이용자에 비해  992.94 kg 만큼 낮습니다.\n"
          ]
        },
        {
          "output_type": "display_data",
          "data": {
            "text/plain": [
              "<Figure size 640x480 with 1 Axes>"
            ],
            "image/png": "[encoded data removed]"
          },
          "metadata": {}
        }
      ]
    },
    {
      "cell_type": "code",
      "source": [],
      "metadata": {
        "id": "EWYO2YgveTHI"
      },
      "execution_count": null,
      "outputs": []
    }
  ]
}